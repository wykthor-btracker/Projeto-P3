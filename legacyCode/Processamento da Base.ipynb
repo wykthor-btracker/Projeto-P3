{
 "cells": [
  {
   "cell_type": "code",
   "execution_count": 1,
   "metadata": {},
   "outputs": [],
   "source": [
    "import os\n",
    "import shutil"
   ]
  },
  {
   "cell_type": "code",
   "execution_count": 2,
   "metadata": {},
   "outputs": [],
   "source": [
    "def getNames(root, directories):\n",
    "    #Capturando nomes e duplicatas\n",
    "    name = root.rsplit('\\\\', 1)[-1]\n",
    "    if name in names:\n",
    "        #print(\"Duplicata: \" + root[0])\n",
    "        #errors += 1;\n",
    "        doubled.append(name);\n",
    "        return False;\n",
    "    #Só pega nomes de pacientes, pois são pastas que não tem nenhuma pasta dentro\n",
    "    elif (len(directories) == 0):\n",
    "        names.append(name)\n",
    "        return name\n",
    "    else:\n",
    "        return False"
   ]
  },
  {
   "cell_type": "code",
   "execution_count": 26,
   "metadata": {},
   "outputs": [],
   "source": [
    "def copyArchives(files, root):\n",
    "    path = myPath + \"\\\\\" + root.rsplit('\\\\', 1)[-1]\n",
    "    archs = 0;\n",
    "    copied_archives = 0;\n",
    "    for file in files:\n",
    "        archs+=1\n",
    "        if file.find(\"FICHA DE ATENDIMENTO\") > -1 or file.find(\"CIRÚRGIC\") > -1 or file.find(\"CIRURGIC\") > -1:\n",
    "            copied_archives+=1\n",
    "            shutil.copy(file, path)\n",
    "    return archs, copied_archives"
   ]
  },
  {
   "cell_type": "code",
   "execution_count": 29,
   "metadata": {},
   "outputs": [],
   "source": [
    "os.chdir(\"E:/\")\n",
    "names = [];\n",
    "doubled = [];\n",
    "errors = 0;\n",
    "archs=0;\n",
    "copied_archives = 0;\n",
    "myPath = \"C:\\\\Users\\\\mateu\\\\code\\\\Catarata\\\\Pacientes\"\n",
    "stop = 20000000"
   ]
  },
  {
   "cell_type": "code",
   "execution_count": 31,
   "metadata": {
    "scrolled": false
   },
   "outputs": [
    {
     "name": "stdout",
     "output_type": "stream",
     "text": [
      "Total de arquivos: 362951\n",
      "Arquivos copiados: 128817\n",
      "Duplicatas: 5746\n"
     ]
    }
   ],
   "source": [
    "i = 0;\n",
    "for root, directories, files in (os.walk(\".\")):\n",
    "    if i > stop:\n",
    "        break;\n",
    "    elif not getNames(root, directories):\n",
    "        errors+=1\n",
    "        os.chdir(\"E:/\") \n",
    "        i+=1\n",
    "    else:\n",
    "    #Copiando arquivos para minha pasta especificada\n",
    "        os.chdir(root)\n",
    "        names = sorted(names)\n",
    "        if (len(directories) == 0):\n",
    "            archivesNums = copyArchives(files, root)\n",
    "            archs += archivesNums[0]\n",
    "            copied_archives += archivesNums[1]\n",
    "\n",
    "        os.chdir(\"E:/\")   \n",
    "        i+=1\n",
    "\n",
    "\n",
    "'''print(names)\n",
    "print(len(names))\n",
    "print(errors)'''\n",
    "\n",
    "print(\"Total de arquivos: \" + str(archs))\n",
    "print(\"Arquivos copiados: \" + str(copied_archives))\n",
    "print(\"Duplicatas: \" + str(errors))"
   ]
  },
  {
   "cell_type": "code",
   "execution_count": 13,
   "metadata": {},
   "outputs": [],
   "source": [
    "names = sorted(names)"
   ]
  },
  {
   "cell_type": "code",
   "execution_count": 14,
   "metadata": {},
   "outputs": [],
   "source": [
    "def createFolders():\n",
    "    os.chdir(myPath)\n",
    "    for name in names:\n",
    "        os.mkdir(name)"
   ]
  },
  {
   "cell_type": "code",
   "execution_count": 10,
   "metadata": {},
   "outputs": [],
   "source": [
    "createFolders()"
   ]
  },
  {
   "cell_type": "code",
   "execution_count": null,
   "metadata": {},
   "outputs": [],
   "source": [
    "import pandas"
   ]
  },
  {
   "cell_type": "code",
   "execution_count": null,
   "metadata": {},
   "outputs": [],
   "source": [
    "sheets = pandas.read_excel(\"Planilhas/Planilhas com mais dados/CIRURGIAS - editada por Mateus.xlsx\", [0,1,2,3,4,5])"
   ]
  },
  {
   "cell_type": "code",
   "execution_count": null,
   "metadata": {},
   "outputs": [],
   "source": [
    "cir14 = sheets[0]\n",
    "cir15 = sheets[1]\n",
    "cir16 = sheets[2]\n",
    "cir17 = sheets[3]\n",
    "cir18 = sheets[5]\n",
    "cirAntigas = sheets[4]"
   ]
  },
  {
   "cell_type": "code",
   "execution_count": null,
   "metadata": {},
   "outputs": [],
   "source": [
    "cols = cir14.iloc[7]\n",
    "cir14.columns = cols\n",
    "cir14 = cir14.drop(index=[0,1,2,3,4,5,6,7])\n",
    "cir14 = cir14.set_index(\"QUANT.\")\n",
    "cir14 = cir14.iloc[:, 0:11]"
   ]
  },
  {
   "cell_type": "code",
   "execution_count": null,
   "metadata": {},
   "outputs": [],
   "source": [
    "cols = cir15.iloc[7]\n",
    "cir15.columns = cols\n",
    "cir15 = cir15.drop(index=[0,1,2,3,4,5,6,7])\n",
    "cir15 = cir15.set_index(\"QUANTIDADE\")\n",
    "cir15 = cir15.iloc[:, 0:13]"
   ]
  },
  {
   "cell_type": "code",
   "execution_count": null,
   "metadata": {},
   "outputs": [],
   "source": [
    "cols = cir16.iloc[7]\n",
    "cir16.columns = cols\n",
    "cir16 = cir16.drop(index=[0,1,2,3,4,5,6,7])\n",
    "cir16 = cir16.set_index(\"QUANTIDADE\")\n",
    "cir16 = cir16.iloc[:, 0:13]"
   ]
  },
  {
   "cell_type": "code",
   "execution_count": null,
   "metadata": {},
   "outputs": [],
   "source": [
    "cols = cir17.iloc[7]\n",
    "cir17.columns = cols\n",
    "cir17 = cir17.drop(index=[0,1,2,3,4,5,6,7])\n",
    "cir17 = cir17.set_index(\"QUANTIDADE\")\n",
    "cir17 = cir17.iloc[:, 0:14]"
   ]
  },
  {
   "cell_type": "code",
   "execution_count": null,
   "metadata": {},
   "outputs": [],
   "source": [
    "cir18 = cir18.set_index(\"QUANTIDADE\")"
   ]
  },
  {
   "cell_type": "code",
   "execution_count": 10,
   "metadata": {},
   "outputs": [
    {
     "ename": "ModuleNotFoundError",
     "evalue": "No module named 'pdf2image'",
     "output_type": "error",
     "traceback": [
      "\u001b[1;31m---------------------------------------------------------------------------\u001b[0m",
      "\u001b[1;31mModuleNotFoundError\u001b[0m                       Traceback (most recent call last)",
      "\u001b[1;32m<ipython-input-10-bd56f4c59bef>\u001b[0m in \u001b[0;36m<module>\u001b[1;34m()\u001b[0m\n\u001b[1;32m----> 1\u001b[1;33m \u001b[1;32mimport\u001b[0m \u001b[0mpdf2image\u001b[0m\u001b[1;33m\u001b[0m\u001b[0m\n\u001b[0m",
      "\u001b[1;31mModuleNotFoundError\u001b[0m: No module named 'pdf2image'"
     ]
    }
   ],
   "source": [
    "import pdf2image"
   ]
  }
 ],
 "metadata": {
  "kernelspec": {
   "display_name": "Python 3",
   "language": "python",
   "name": "python3"
  },
  "language_info": {
   "codemirror_mode": {
    "name": "ipython",
    "version": 3
   },
   "file_extension": ".py",
   "mimetype": "text/x-python",
   "name": "python",
   "nbconvert_exporter": "python",
   "pygments_lexer": "ipython3",
   "version": "3.7.0"
  }
 },
 "nbformat": 4,
 "nbformat_minor": 2
}
